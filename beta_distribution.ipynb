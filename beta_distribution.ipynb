# Required Libraries
import numpy as np
import matplotlib.pyplot as plt
from scipy.stats import beta
import ipywidgets as widgets
from ipywidgets import interact
import seaborn as sns

# Ensure Matplotlib uses ipympl for interactive plotting
%matplotlib ipympl

# Function to plot Beta distribution with interactive sliders for k and n
def plot_beta(k=1, n=1):
    x = np.linspace(0, 1, 1000)
    
    # Beta distribution parameters
    alpha_param = k + 1  # alpha = successes + 1
    beta_param = (n - k) + 1  # beta = failures + 1
    
    # Calculate the Beta distribution
    y = beta.pdf(x, alpha_param, beta_param)
    
    # Plotting the Beta distribution
    plt.figure(figsize=(8, 6))
    plt.plot(x, y, label=f"Beta({alpha_param}, {beta_param})", color="blue")
    plt.fill_between(x, y, color="skyblue", alpha=0.4)
    plt.title(f"distribution of θ")
    plt.xlabel("θ")
    plt.ylabel("probability density")
    plt.grid(True)
    plt.show()

# Create interactive sliders for k (successes) and n (failures)
interact(plot_beta, k=widgets.IntSlider(min=0, max=20, step=1, value=0, description="k"),
         n=widgets.IntSlider(min=0, max=20, step=1, value=0, description="n"));
