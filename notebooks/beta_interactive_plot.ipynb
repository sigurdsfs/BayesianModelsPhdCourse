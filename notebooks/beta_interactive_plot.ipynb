{
 "cells": [
  {
   "cell_type": "markdown",
   "metadata": {},
   "source": [
    "## Interactive Beta Distribution\n",
    "\n",
    "Set the sliders to reflect different priors over $\\theta$\n",
    "\n",
    "- **You are complete uncertain about the ability**  \n",
    "  → Set the highest spread you can \n",
    "  - widest possible prior\n",
    "\n",
    "- **You are quite certain that ability will be high**  \n",
    "  → Set a **narrow** prior centered on a **high value**\n",
    "\n",
    "- **You are uncertain but you think ability is low**  \n",
    "  → Set a **wide** prior centered on a **low value**\n",
    "\n",
    "What do you notice about k and n? "
   ]
  },
  {
   "cell_type": "code",
   "execution_count": 10,
   "metadata": {},
   "outputs": [
    {
     "data": {
      "application/vnd.jupyter.widget-view+json": {
       "model_id": "4200378c66ba4fddb6c6835b98c183c3",
       "version_major": 2,
       "version_minor": 0
      },
      "text/plain": [
       "VBox(children=(IntSlider(value=2, description='n'), IntSlider(value=1, description='k')))"
      ]
     },
     "metadata": {},
     "output_type": "display_data"
    },
    {
     "data": {
      "application/vnd.jupyter.widget-view+json": {
       "model_id": "b47d28c47d454aff88106c4fb3506a59",
       "version_major": 2,
       "version_minor": 0
      },
      "text/plain": [
       "Output()"
      ]
     },
     "metadata": {},
     "output_type": "display_data"
    }
   ],
   "source": [
    "import numpy as np\n",
    "import matplotlib.pyplot as plt\n",
    "from scipy.stats import beta\n",
    "import ipywidgets as widgets\n",
    "from IPython.display import display\n",
    "\n",
    "def plot_beta(k, n):\n",
    "    if k > n:\n",
    "        print(\"Error: k must be ≤ n.\")\n",
    "        return\n",
    "    x = np.linspace(0, 1, 1000)\n",
    "    alpha_param = k + 1\n",
    "    beta_param = (n - k) + 1\n",
    "    y = beta.pdf(x, alpha_param, beta_param)\n",
    "\n",
    "    fig, ax = plt.subplots(figsize=(8, 6))\n",
    "    ax.plot(x, y, label=f\"Beta({alpha_param}, {beta_param})\", color=\"blue\")\n",
    "    ax.fill_between(x, y, color=\"skyblue\", alpha=0.4)\n",
    "    ax.set_title(\"Distribution of θ\")\n",
    "    ax.set_xlabel(\"θ\")\n",
    "    ax.set_ylabel(\"Probability Density\")\n",
    "    ax.grid(True)\n",
    "    ax.legend()\n",
    "    plt.show()\n",
    "\n",
    "# Create sliders\n",
    "n_slider = widgets.IntSlider(min=0, max=100, step=1, value=2, description=\"n\")\n",
    "k_slider = widgets.IntSlider(min=0, max=100, step=1, value=1, description=\"k\")\n",
    "\n",
    "# Callback to update the max value of k_slider when n changes\n",
    "def update_k_slider(*args):\n",
    "    k_slider.max = n_slider.value\n",
    "    if k_slider.value > k_slider.max:\n",
    "        k_slider.value = k_slider.max\n",
    "\n",
    "n_slider.observe(update_k_slider, names='value')\n",
    "\n",
    "# Display everything\n",
    "ui = widgets.VBox([n_slider, k_slider])\n",
    "out = widgets.interactive_output(plot_beta, {'k': k_slider, 'n': n_slider})\n",
    "\n",
    "display(ui, out)\n"
   ]
  }
 ],
 "metadata": {
  "kernelspec": {
   "display_name": "Bayes",
   "language": "python",
   "name": "python3"
  },
  "language_info": {
   "codemirror_mode": {
    "name": "ipython",
    "version": 3
   },
   "file_extension": ".py",
   "mimetype": "text/x-python",
   "name": "python",
   "nbconvert_exporter": "python",
   "pygments_lexer": "ipython3",
   "version": "3.11.11"
  }
 },
 "nbformat": 4,
 "nbformat_minor": 5
}
