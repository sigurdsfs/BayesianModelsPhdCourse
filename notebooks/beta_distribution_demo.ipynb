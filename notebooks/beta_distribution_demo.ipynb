{
 "cells": [
  {
   "cell_type": "markdown",
   "metadata": {},
   "source": [
    "# Interactive Beta Distribution\n",
    "Use the sliders below to explore how the Beta distribution changes with different values of α (alpha) and β (beta)."
   ]
  },
  {
   "cell_type": "code",
   "execution_count": null,
   "metadata": {},
   "outputs": [],
   "source": [
    "import numpy as np\n",
    "import matplotlib.pyplot as plt\n",
    "import ipywidgets as widgets\n",
    "from scipy.stats import beta\n",
    "from IPython.display import display\n",
    "\n",
    "def plot_beta_distribution(alpha, beta_param):\n",
    "    theta = np.linspace(0, 1, 500)\n",
    "    y = beta.pdf(theta, alpha, beta_param)\n",
    "    \n",
    "    plt.figure(figsize=(8, 4))\n",
    "    plt.plot(theta, y, lw=2, color='black')\n",
    "    plt.title(f'Beta Distribution: α={alpha}, β={beta_param}')\n",
    "    plt.xlabel(r'$\\theta$')\n",
    "    plt.ylabel(r'$p(\\theta)$')\n",
    "    plt.grid(True)\n",
    "    plt.ylim(0, max(y) * 1.1)\n",
    "    plt.show()\n",
    "\n",
    "alpha_slider = widgets.FloatSlider(value=1.0, min=0.1, max=10.0, step=0.1, description='α (alpha):')\n",
    "beta_slider = widgets.FloatSlider(value=1.0, min=0.1, max=10.0, step=0.1, description='β (beta):')\n",
    "\n",
    "ui = widgets.VBox([alpha_slider, beta_slider])\n",
    "out = widgets.interactive_output(plot_beta_distribution, {'alpha': alpha_slider, 'beta_param': beta_slider})\n",
    "\n",
    "display(ui, out)"
   ]
  }
 ],
 "metadata": {
  "kernelspec": {
   "display_name": "Python 3",
   "language": "python",
   "name": "python3"
  },
  "language_info": {
   "name": "python",
   "version": ""
  }
 },
 "nbformat": 4,
 "nbformat_minor": 5
}
