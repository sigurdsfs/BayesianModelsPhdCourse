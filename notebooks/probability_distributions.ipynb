{
 "cells": [
  {
   "cell_type": "markdown",
   "id": "93f74307",
   "metadata": {},
   "source": [
    "## Interactive distributions\n",
    "\n",
    "Adjust the sliders to change the mean (μ) and standard deviation (σ) of the distribution.\n",
    "\n",
    "The mean moves the distribution so that its mean is higher or lower\n",
    "\n",
    "The standard deviation changes the spread, changing the uncertainty of the belief\n",
    "\n",
    "Play with the distributions.\n",
    "\n",
    "Use the sliders to generate distributions that represent different prior beliefs for theta:\n",
    "\n",
    "  - *Certain belief that the theta is high*\n",
    "\n",
    "  - *Certain belief that the theta is low* \n",
    "  \n",
    "  - *Uncertain belief that the theta is high*   \n",
    "  \n",
    "  - *Uncertain belief that the theta is low*\n",
    "\n",
    "Click on code cell and press play to run"
   ]
  },
  {
   "cell_type": "code",
   "execution_count": 1,
   "id": "59dabc1f",
   "metadata": {
    "trusted": true
   },
   "outputs": [
    {
     "data": {
      "application/vnd.jupyter.widget-view+json": {
       "model_id": "23791da919204008a97f397b469037b0",
       "version_major": 2,
       "version_minor": 0
      },
      "text/plain": [
       "interactive(children=(FloatSlider(value=0.0, description='μ', max=10.0, min=-10.0), FloatSlider(value=1.0, des…"
      ]
     },
     "metadata": {},
     "output_type": "display_data"
    }
   ],
   "source": [
    "import numpy as np\n",
    "import matplotlib.pyplot as plt\n",
    "import ipywidgets as widgets\n",
    "from ipywidgets import interact\n",
    "from scipy.stats import norm\n",
    "\n",
    "def plot_gaussian(mu=0.0, sigma=1.0):\n",
    "    # Fixed x range\n",
    "    x = np.linspace(-20, 20, 1000)\n",
    "    y = norm.pdf(x, mu, sigma)\n",
    "\n",
    "    fig, ax = plt.subplots(figsize=(8, 6))\n",
    "    ax.plot(x, y, label=f'N({mu:.2f}, {sigma:.2f}²)', color='purple')\n",
    "    ax.fill_between(x, y, color='plum', alpha=0.4)\n",
    "    ax.set_title(\"Gaussian Distribution\")\n",
    "    ax.set_xlabel(\"θ\")\n",
    "    ax.set_ylabel(\"Probability Density\")\n",
    "    ax.set_xlim(-20, 20)\n",
    "    ax.set_ylim(0, 3)\n",
    "    ax.grid(True)\n",
    "    ax.legend()\n",
    "    plt.show()\n",
    "\n",
    "interact(\n",
    "    plot_gaussian,\n",
    "    mu=widgets.FloatSlider(min=-10, max=10, step=0.1, value=0.0, description=\"μ\"),\n",
    "    sigma=widgets.FloatSlider(min=0.1, max=5.0, step=0.1, value=1.0, description=\"σ\")\n",
    ");"
   ]
  },
  {
   "cell_type": "markdown",
   "id": "4eca423f",
   "metadata": {},
   "source": [
    "## Interpreting probability distributions\n",
    "\n",
    "There are intuitive ways to read off probabilities from probability distributions like these.\n",
    "\n",
    "According to the belief encoded by the distribution, the probability of theta being larger than say 0.5 or 5 is the area under the curve above this value\n",
    "\n",
    "Similarly, the probability of theta being between say 0.1 and 0.7 is the area under the curve between these two values\n",
    "\n",
    "Play with the sliders to see how the area under the curve changes as you change the minimum and maximum values.\n",
    "\n",
    "The shaded area represents the probability of theta being in the range you selected.\n",
    "\n",
    "## Again click on the code cell and press play to run code"
   ]
  },
  {
   "cell_type": "code",
   "execution_count": 2,
   "id": "e04c3ddb",
   "metadata": {
    "trusted": true
   },
   "outputs": [
    {
     "data": {
      "application/vnd.jupyter.widget-view+json": {
       "model_id": "3b7f2aefb82347e1a0c551d71424c644",
       "version_major": 2,
       "version_minor": 0
      },
      "text/plain": [
       "interactive(children=(FloatSlider(value=0.0, description='μ', max=10.0, min=-10.0), FloatSlider(value=1.0, des…"
      ]
     },
     "metadata": {},
     "output_type": "display_data"
    },
    {
     "data": {
      "text/plain": [
       "<function __main__.plot_gaussian(mu=0.0, sigma=1.0, x_min=-1.0, x_max=1.0)>"
      ]
     },
     "execution_count": 2,
     "metadata": {},
     "output_type": "execute_result"
    }
   ],
   "source": [
    "import numpy as np\n",
    "import matplotlib.pyplot as plt\n",
    "import ipywidgets as widgets\n",
    "from ipywidgets import interact\n",
    "from scipy.stats import norm\n",
    "\n",
    "def plot_gaussian(mu=0.0, sigma=1.0, x_min=-1.0, x_max=1.0):\n",
    "    # Fixed x range\n",
    "    x = np.linspace(-20, 20, 1000)\n",
    "    y = norm.pdf(x, mu, sigma)\n",
    "\n",
    "    fig, ax = plt.subplots(figsize=(8, 6))\n",
    "    ax.plot(x, y, label=f'N({mu:.2f}, {sigma:.2f}²)', color='purple')\n",
    "\n",
    "    # Fill full curve lightly\n",
    "    ax.fill_between(x, y, color='plum', alpha=0.2)\n",
    "\n",
    "    # Highlight area between x_min and x_max\n",
    "    mask = (x >= x_min) & (x <= x_max)\n",
    "    ax.fill_between(x[mask], y[mask], color='mediumvioletred', alpha=0.6,\n",
    "                    label=f\"P({x_min:.2f} < θ < {x_max:.2f}) ≈ {norm.cdf(x_max, mu, sigma) - norm.cdf(x_min, mu, sigma):.2f}\")\n",
    "\n",
    "    ax.set_title(\"Probability as Area Under the Curve\")\n",
    "    ax.set_xlabel(\"θ\")\n",
    "    ax.set_ylabel(\"Probability Density\")\n",
    "    ax.set_xlim(-20, 20)\n",
    "    ax.set_ylim(0, max(y) * 1.1)\n",
    "    ax.grid(True)\n",
    "    ax.legend()\n",
    "    plt.show()\n",
    "\n",
    "interact(\n",
    "    plot_gaussian,\n",
    "    mu=widgets.FloatSlider(min=-10, max=10, step=0.1, value=0.0, description=\"μ\"),\n",
    "    sigma=widgets.FloatSlider(min=0.1, max=5.0, step=0.1, value=1.0, description=\"σ\"),\n",
    "    x_min=widgets.FloatSlider(min=-10, max=10, step=0.1, value=-1.0, description=\"x min\"),\n",
    "    x_max=widgets.FloatSlider(min=-10, max=10, step=0.1, value=1.0, description=\"x max\")\n",
    ")\n"
   ]
  },
  {
   "cell_type": "markdown",
   "id": "3a39a2c8",
   "metadata": {},
   "source": [
    "## Bayesian credibility intervals\n",
    "\n",
    "A Bayesian credibility interval is a range of values that contains the true value of the parameter with a certain probability. \n",
    "\n",
    "It is similar to a confidence interval in frequentist statistics, but it is based on the posterior distribution of the parameter rather than the sampling distribution.\n",
    "\n",
    "Its interpretation is actually what most people think of when they hear the term \"confidence interval\". Its what they are looking for when they ask for a confidence interval.\n",
    "\n",
    "You can construct a Bayesian credibility interval by picking the probability you want to contain the true value of the parameter, and then finding the range of values that contains that probability. \n",
    "\n",
    "Play with the sliders to see how the credibility interval changes as you change the probability.\n",
    "\n",
    "The most typical is the 95% credibility interval $BCI_{95}$, which contains the value of the parameter with 95% probability.  \n",
    "\n",
    "The 50% credibility interval $BCI_{50}$ would contains the value of the parameter with 50% probability. And so on.\n"
   ]
  },
  {
   "cell_type": "code",
   "execution_count": 3,
   "id": "61b5b361",
   "metadata": {
    "trusted": true
   },
   "outputs": [
    {
     "data": {
      "application/vnd.jupyter.widget-view+json": {
       "model_id": "fa0390866ede4dad8882d9418cd9168f",
       "version_major": 2,
       "version_minor": 0
      },
      "text/plain": [
       "interactive(children=(FloatSlider(value=0.0, description='μ', max=10.0, min=-10.0), FloatSlider(value=1.0, des…"
      ]
     },
     "metadata": {},
     "output_type": "display_data"
    },
    {
     "data": {
      "text/plain": [
       "<function __main__.plot_gaussian_bci(mu=0.0, sigma=1.0, bci=95.0)>"
      ]
     },
     "execution_count": 3,
     "metadata": {},
     "output_type": "execute_result"
    }
   ],
   "source": [
    "import numpy as np\n",
    "import matplotlib.pyplot as plt\n",
    "import ipywidgets as widgets\n",
    "from ipywidgets import interact\n",
    "from scipy.stats import norm\n",
    "\n",
    "def plot_gaussian_bci(mu=0.0, sigma=1.0, bci=95.0):\n",
    "    # Fixed x range\n",
    "    x = np.linspace(mu - 4*sigma, mu + 4*sigma, 1000)\n",
    "    y = norm.pdf(x, mu, sigma)\n",
    "\n",
    "    # Compute the central credible interval bounds\n",
    "    alpha = 1 - bci / 100\n",
    "    lower_bound = norm.ppf(alpha / 2, mu, sigma)\n",
    "    upper_bound = norm.ppf(1 - alpha / 2, mu, sigma)\n",
    "\n",
    "    # Max density for horizontal line\n",
    "    y_bound = norm.pdf([lower_bound, upper_bound], mu, sigma).min()\n",
    "\n",
    "    fig, ax = plt.subplots(figsize=(8, 6))\n",
    "\n",
    "    # Plot the density curve\n",
    "    ax.plot(x, y, label=f'N({mu:.2f}, {sigma:.2f}²)', color='purple')\n",
    "\n",
    "    # Shade full area lightly\n",
    "    ax.fill_between(x, y, color='plum', alpha=0.2)\n",
    "\n",
    "    # Shade credible interval\n",
    "    mask = (x >= lower_bound) & (x <= upper_bound)\n",
    "    ax.fill_between(x[mask], y[mask], color='mediumvioletred', alpha=0.6,\n",
    "                    label=f\"{bci:.0f}% BCI: [{lower_bound:.2f}, {upper_bound:.2f}]\")\n",
    "\n",
    "    # Draw horizontal line intersecting the interval ends\n",
    "    ax.hlines(y=y_bound, xmin=lower_bound, xmax=upper_bound,\n",
    "              color='black', linestyle='--', linewidth=1)\n",
    "\n",
    "    # Add vertical lines at bounds\n",
    "    ax.vlines([lower_bound, upper_bound], ymin=0, ymax=y_bound,\n",
    "              color='black', linestyle='--', linewidth=1)\n",
    "\n",
    "    # Labels and legend\n",
    "    ax.set_title(\"Central Bayesian Credible Interval (BCI)\")\n",
    "    ax.set_xlabel(\"θ\")\n",
    "    ax.set_ylabel(\"Probability Density\")\n",
    "    ax.set_xlim(mu - 4*sigma, mu + 4*sigma)\n",
    "    ax.set_ylim(0, max(y) * 1.1)\n",
    "    ax.grid(True)\n",
    "    ax.legend()\n",
    "    plt.show()\n",
    "\n",
    "interact(\n",
    "    plot_gaussian_bci,\n",
    "    mu=widgets.FloatSlider(min=-10, max=10, step=0.1, value=0.0, description=\"μ\"),\n",
    "    sigma=widgets.FloatSlider(min=0.1, max=5.0, step=0.1, value=1.0, description=\"σ\"),\n",
    "    bci=widgets.FloatSlider(min=50, max=99, step=1, value=95, description=\"BCI (%)\")\n",
    ")\n"
   ]
  },
  {
   "cell_type": "markdown",
   "id": "64b178de",
   "metadata": {},
   "source": [
    "## Let's play with prior beliefs for theta\n",
    "\n",
    "We need to think carefully about what theta means\n",
    "\n",
    "Theta represents cognitive ability in our go-no-go task\n",
    "\n",
    "0 is the worst possible cognitive ability, and 1 is the best.\n",
    "\n",
    "So we should set a prior distribution for theta between 0 and 1.\n",
    "\n",
    "The distributions above do not do this, so let's fix this. \n",
    "\n",
    "We can use a beta distribution to represent our prior belief about theta.\n",
    "\n",
    "The beta distribution is a continuous probability distribution defined on the interval [0, 1], so it is perfect for our needs.\n",
    "\n",
    "Play around with beta distribution parameters to see how the shape of the distribution changes.\n",
    "\n",
    "- **You are complete uncertain about the ability**  \n",
    "  → Set the highest spread you can \n",
    "  - widest possible prior\n",
    "\n",
    "- **You are quite certain that ability will be high**  \n",
    "  → Set a **narrow** prior centered on a **high value**\n",
    "\n",
    "- **You are quite certain that ability will be low**  \n",
    "  → Set a **narrow** prior centered on a **low value**\n",
    "  \n",
    "- **You are uncertain but you think ability is low**  \n",
    "  → Set a **wide** prior centered on a **low value**\n"
   ]
  },
  {
   "cell_type": "code",
   "execution_count": 4,
   "id": "f922766f",
   "metadata": {
    "trusted": true
   },
   "outputs": [
    {
     "data": {
      "application/vnd.jupyter.widget-view+json": {
       "model_id": "8a5e7bb0a3a441969a9ed5548f094303",
       "version_major": 2,
       "version_minor": 0
      },
      "text/plain": [
       "VBox(children=(IntSlider(value=2, description='n'), IntSlider(value=1, description='k')))"
      ]
     },
     "metadata": {},
     "output_type": "display_data"
    },
    {
     "data": {
      "application/vnd.jupyter.widget-view+json": {
       "model_id": "242705f7d956490eb0f506a0b637149e",
       "version_major": 2,
       "version_minor": 0
      },
      "text/plain": [
       "Output()"
      ]
     },
     "metadata": {},
     "output_type": "display_data"
    }
   ],
   "source": [
    "import numpy as np\n",
    "import matplotlib.pyplot as plt\n",
    "from scipy.stats import beta\n",
    "import ipywidgets as widgets\n",
    "from IPython.display import display\n",
    "\n",
    "def plot_beta(k, n):\n",
    "    if k > n:\n",
    "        print(\"Error: k must be ≤ n.\")\n",
    "        return\n",
    "    x = np.linspace(0, 1, 1000)\n",
    "    alpha_param = k + 1\n",
    "    beta_param = (n - k) + 1\n",
    "    y = beta.pdf(x, alpha_param, beta_param)\n",
    "\n",
    "    fig, ax = plt.subplots(figsize=(8, 6))\n",
    "    ax.plot(x, y, label=f\"Beta({alpha_param}, {beta_param})\", color=\"blue\")\n",
    "    ax.fill_between(x, y, color=\"skyblue\", alpha=0.4)\n",
    "    ax.set_title(\"Distribution of θ\")\n",
    "    ax.set_xlabel(\"θ\")\n",
    "    ax.set_ylabel(\"Probability Density\")\n",
    "    ax.grid(True)\n",
    "    ax.legend()\n",
    "    plt.show()\n",
    "\n",
    "# Create sliders\n",
    "n_slider = widgets.IntSlider(min=0, max=100, step=1, value=2, description=\"n\")\n",
    "k_slider = widgets.IntSlider(min=0, max=100, step=1, value=1, description=\"k\")\n",
    "\n",
    "# Callback to update the max value of k_slider when n changes\n",
    "def update_k_slider(*args):\n",
    "    k_slider.max = n_slider.value\n",
    "    if k_slider.value > k_slider.max:\n",
    "        k_slider.value = k_slider.max\n",
    "\n",
    "n_slider.observe(update_k_slider, names='value')\n",
    "\n",
    "# Display everything\n",
    "ui = widgets.VBox([n_slider, k_slider])\n",
    "out = widgets.interactive_output(plot_beta, {'k': k_slider, 'n': n_slider})\n",
    "\n",
    "display(ui, out)\n"
   ]
  },
  {
   "cell_type": "markdown",
   "id": "0cfd3b71-1526-4dc8-ac1b-b197119e0448",
   "metadata": {},
   "source": [
    "## Multiplying prior and likelihood\n",
    "\n",
    "We just covered how posterior is proportional to prior times likelihood. \n",
    "\n",
    "So lets do that. We set up a prior with the sliders. Then we set up a likelihood with sliders.\n",
    "\n",
    "Then we see how the posterior is calculated. Its going to be not properly scaled because we are not dividing by the marginal likelihood but its shape shows us relative posterior beliefs we have in different values of theta.  \n",
    "\n",
    "## Pick a few values of theta, and multiply the prior by the likelihood. \n",
    "\n",
    "Does it give the correct value for the unscaled posterior?\n",
    "\n",
    "This is what the likelihood is doing. Its adjusting the prior belief according to how well each theta predicted the data. "
   ]
  },
  {
   "cell_type": "code",
   "execution_count": 2,
   "id": "c2fdc50f-45c5-4722-8fbb-81a457c92ffc",
   "metadata": {
    "trusted": true
   },
   "outputs": [
    {
     "data": {
      "application/vnd.jupyter.widget-view+json": {
       "model_id": "1d93bb66421648379247ebd058daa442",
       "version_major": 2,
       "version_minor": 0
      },
      "text/plain": [
       "VBox(children=(HTML(value=\"<b style='color:blue'>Prior sliders</b>\"), HBox(children=(IntSlider(value=2, descri…"
      ]
     },
     "metadata": {},
     "output_type": "display_data"
    },
    {
     "data": {
      "application/vnd.jupyter.widget-view+json": {
       "model_id": "4bbb75559c63486e9e8710b4d2fae583",
       "version_major": 2,
       "version_minor": 0
      },
      "text/plain": [
       "Output()"
      ]
     },
     "metadata": {},
     "output_type": "display_data"
    }
   ],
   "source": [
    "import numpy as np\n",
    "import matplotlib.pyplot as plt\n",
    "from scipy.stats import beta\n",
    "import ipywidgets as widgets\n",
    "from IPython.display import display\n",
    "\n",
    "x = np.linspace(0, 1, 1000)\n",
    "\n",
    "# --- Plotting function ---\n",
    "def plot_bayes(k_prior, n_prior, k_like, n_like):\n",
    "    # Prior\n",
    "    a_prior = k_prior + 1\n",
    "    b_prior = (n_prior - k_prior) + 1\n",
    "    y_prior = beta.pdf(x, a_prior, b_prior)\n",
    "\n",
    "    # Likelihood (as another Beta for visualization)\n",
    "    a_like = k_like + 1\n",
    "    b_like = (n_like - k_like) + 1\n",
    "    y_like = beta.pdf(x, a_like, b_like)\n",
    "\n",
    "    # Unnormalized Posterior = Prior × Likelihood (pointwise)\n",
    "    y_post = y_prior * y_like\n",
    "\n",
    "    # Plot\n",
    "    fig, ax = plt.subplots(figsize=(8, 6))\n",
    "    ax.plot(x, y_prior, label=\"Prior\", color=\"blue\")\n",
    "    ax.plot(x, y_like, label=\"Likelihood\", color=\"red\")\n",
    "    ax.plot(x, y_post, label=\"Unnormalized Posterior\", color=\"green\")\n",
    "\n",
    "    ax.set_title(\"Bayesian Updating (Unnormalized)\")\n",
    "    ax.set_xlabel(\"θ\")\n",
    "    ax.set_ylabel(\"Density (unnormalized for posterior)\")\n",
    "    ax.grid(True)\n",
    "    ax.legend()\n",
    "    plt.show()\n",
    "\n",
    "# --- Sliders ---\n",
    "k_prior_slider = widgets.IntSlider(min=0, max=100, step=1, value=1, description=\"k_prior\", style={'description_width': 'initial'})\n",
    "n_prior_slider = widgets.IntSlider(min=0, max=100, step=1, value=2, description=\"n_prior\", style={'description_width': 'initial'})\n",
    "\n",
    "k_like_slider = widgets.IntSlider(min=0, max=100, step=1, value=1, description=\"k_like\", style={'description_width': 'initial'})\n",
    "n_like_slider = widgets.IntSlider(min=0, max=100, step=1, value=2, description=\"n_like\", style={'description_width': 'initial'})\n",
    "\n",
    "# --- Dynamic adjustment of k sliders ---\n",
    "def update_k_max_prior(*args):\n",
    "    k_prior_slider.max = n_prior_slider.value\n",
    "    if k_prior_slider.value > k_prior_slider.max:\n",
    "        k_prior_slider.value = k_prior_slider.max\n",
    "\n",
    "def update_k_max_like(*args):\n",
    "    k_like_slider.max = n_like_slider.value\n",
    "    if k_like_slider.value > k_like_slider.max:\n",
    "        k_like_slider.value = k_like_slider.max\n",
    "\n",
    "n_prior_slider.observe(update_k_max_prior, names='value')\n",
    "n_like_slider.observe(update_k_max_like, names='value')\n",
    "\n",
    "# --- UI layout ---\n",
    "ui = widgets.VBox([\n",
    "    widgets.HTML(\"<b style='color:blue'>Prior sliders</b>\"),\n",
    "    widgets.HBox([n_prior_slider, k_prior_slider]),\n",
    "    widgets.HTML(\"<b style='color:red'>Likelihood sliders</b>\"),\n",
    "    widgets.HBox([n_like_slider, k_like_slider])\n",
    "])\n",
    "\n",
    "out = widgets.interactive_output(plot_bayes, {\n",
    "    'k_prior': k_prior_slider,\n",
    "    'n_prior': n_prior_slider,\n",
    "    'k_like': k_like_slider,\n",
    "    'n_like': n_like_slider\n",
    "})\n",
    "\n",
    "display(ui, out)"
   ]
  },
  {
   "cell_type": "code",
   "execution_count": 3,
   "id": "42ead523-5072-40f0-9b47-96d59701da38",
   "metadata": {
    "trusted": true
   },
   "outputs": [
    {
     "data": {
      "application/vnd.jupyter.widget-view+json": {
       "model_id": "ff0c31d11f5f4457b7058c5f7cadde53",
       "version_major": 2,
       "version_minor": 0
      },
      "text/plain": [
       "VBox(children=(HTML(value=\"<b style='color:blue'>Prior sliders</b>\"), HBox(children=(IntSlider(value=2, descri…"
      ]
     },
     "metadata": {},
     "output_type": "display_data"
    },
    {
     "data": {
      "application/vnd.jupyter.widget-view+json": {
       "model_id": "299d64f31fae44f6a72159a1e18e7d90",
       "version_major": 2,
       "version_minor": 0
      },
      "text/plain": [
       "Output()"
      ]
     },
     "metadata": {},
     "output_type": "display_data"
    }
   ],
   "source": [
    "import numpy as np\n",
    "import matplotlib.pyplot as plt\n",
    "from scipy.stats import beta\n",
    "import ipywidgets as widgets\n",
    "from IPython.display import display\n",
    "\n",
    "x = np.linspace(0, 1, 1000)\n",
    "\n",
    "def plot_bayes(k_prior, n_prior, k_like, n_like):\n",
    "    # Prior\n",
    "    a_prior = k_prior + 1\n",
    "    b_prior = (n_prior - k_prior) + 1\n",
    "    y_prior = beta.pdf(x, a_prior, b_prior)\n",
    "\n",
    "    # Likelihood (as another Beta for visualization)\n",
    "    a_like = k_like + 1\n",
    "    b_like = (n_like - k_like) + 1\n",
    "    y_like = beta.pdf(x, a_like, b_like)\n",
    "\n",
    "    # Unnormalized Posterior = Prior × Likelihood\n",
    "    y_unnorm_post = y_prior * y_like\n",
    "\n",
    "    # Marginal likelihood (normalizing constant)\n",
    "    marginal_likelihood = np.trapz(y_unnorm_post, x)\n",
    "\n",
    "    # Normalized Posterior\n",
    "    y_post = y_unnorm_post / marginal_likelihood if marginal_likelihood > 0 else np.zeros_like(x)\n",
    "\n",
    "    # Plot\n",
    "    fig, ax = plt.subplots(figsize=(8, 6))\n",
    "    ax.plot(x, y_prior, label=\"Prior\", color=\"blue\")\n",
    "    ax.plot(x, y_like, label=\"Likelihood\", color=\"red\")\n",
    "    ax.plot(x, y_post, label=\"Posterior\", color=\"green\")\n",
    "\n",
    "    ax.set_title(\"Bayesian Updating (Normalized Posterior)\")\n",
    "    ax.set_xlabel(\"θ\")\n",
    "    ax.set_ylabel(\"Probability Density\")\n",
    "    ax.grid(True)\n",
    "    ax.legend()\n",
    "    plt.show()\n",
    "\n",
    "# --- Sliders ---\n",
    "k_prior_slider = widgets.IntSlider(min=0, max=100, step=1, value=1, description=\"k_prior\", style={'description_width': 'initial'})\n",
    "n_prior_slider = widgets.IntSlider(min=0, max=100, step=1, value=2, description=\"n_prior\", style={'description_width': 'initial'})\n",
    "\n",
    "k_like_slider = widgets.IntSlider(min=0, max=100, step=1, value=1, description=\"k_like\", style={'description_width': 'initial'})\n",
    "n_like_slider = widgets.IntSlider(min=0, max=100, step=1, value=2, description=\"n_like\", style={'description_width': 'initial'})\n",
    "\n",
    "# --- Dynamic adjustment of k sliders ---\n",
    "def update_k_max_prior(*args):\n",
    "    k_prior_slider.max = n_prior_slider.value\n",
    "    if k_prior_slider.value > k_prior_slider.max:\n",
    "        k_prior_slider.value = k_prior_slider.max\n",
    "\n",
    "def update_k_max_like(*args):\n",
    "    k_like_slider.max = n_like_slider.value\n",
    "    if k_like_slider.value > k_like_slider.max:\n",
    "        k_like_slider.value = k_like_slider.max\n",
    "\n",
    "n_prior_slider.observe(update_k_max_prior, names='value')\n",
    "n_like_slider.observe(update_k_max_like, names='value')\n",
    "\n",
    "# --- UI layout ---\n",
    "ui = widgets.VBox([\n",
    "    widgets.HTML(\"<b style='color:blue'>Prior sliders</b>\"),\n",
    "    widgets.HBox([n_prior_slider, k_prior_slider]),\n",
    "    widgets.HTML(\"<b style='color:red'>Likelihood sliders</b>\"),\n",
    "    widgets.HBox([n_like_slider, k_like_slider])\n",
    "])\n",
    "\n",
    "out = widgets.interactive_output(plot_bayes, {\n",
    "    'k_prior': k_prior_slider,\n",
    "    'n_prior': n_prior_slider,\n",
    "    'k_like': k_like_slider,\n",
    "    'n_like': n_like_slider\n",
    "})\n",
    "\n",
    "display(ui, out)"
   ]
  },
  {
   "cell_type": "code",
   "execution_count": 3,
   "id": "20805541-d5b4-4379-aef4-0885d31f4823",
   "metadata": {
    "trusted": true
   },
   "outputs": [
    {
     "data": {
      "application/vnd.jupyter.widget-view+json": {
       "model_id": "a19d69ea493e496d85be178b26642fc8",
       "version_major": 2,
       "version_minor": 0
      },
      "text/plain": [
       "VBox(children=(HTML(value=\"<b style='color:blue'>Prior sliders</b>\"), HBox(children=(IntSlider(value=2, descri…"
      ]
     },
     "metadata": {},
     "output_type": "display_data"
    },
    {
     "data": {
      "application/vnd.jupyter.widget-view+json": {
       "model_id": "ddb4e653f743480e9ba802858d03b846",
       "version_major": 2,
       "version_minor": 0
      },
      "text/plain": [
       "Output()"
      ]
     },
     "metadata": {},
     "output_type": "display_data"
    }
   ],
   "source": [
    "import numpy as np\n",
    "import matplotlib.pyplot as plt\n",
    "from scipy.stats import beta\n",
    "import ipywidgets as widgets\n",
    "from IPython.display import display\n",
    "\n",
    "x = np.linspace(0, 1, 1000)\n",
    "\n",
    "def plot_bayes(k_prior, n_prior, k_like, n_like):\n",
    "    # Prior\n",
    "    a_prior = k_prior + 1\n",
    "    b_prior = (n_prior - k_prior) + 1\n",
    "    y_prior = beta.pdf(x, a_prior, b_prior)\n",
    "\n",
    "    # Likelihood (as another Beta for visualization)\n",
    "    a_like = k_like + 1\n",
    "    b_like = (n_like - k_like) + 1\n",
    "    y_like = beta.pdf(x, a_like, b_like)\n",
    "\n",
    "    # Unnormalized Posterior = Prior × Likelihood\n",
    "    y_unnorm_post = y_prior * y_like\n",
    "\n",
    "    # Marginal likelihood (normalizing constant)\n",
    "    marginal_likelihood = np.trapz(y_unnorm_post, x)\n",
    "\n",
    "    # Normalized Posterior\n",
    "    y_post = y_unnorm_post / marginal_likelihood if marginal_likelihood > 0 else np.zeros_like(x)\n",
    "\n",
    "    # Plot\n",
    "    fig, ax = plt.subplots(figsize=(8, 6))\n",
    "    ax.plot(x, y_prior, label=\"Prior\", color=\"blue\")\n",
    "    ax.plot(x, y_like, label=\"Likelihood\", color=\"red\")\n",
    "    ax.plot(x, y_post, label=\"Posterior\", color=\"green\")\n",
    "\n",
    "    ax.set_title(\"Bayesian Updating (Normalized Posterior)\")\n",
    "    ax.set_xlabel(\"θ\")\n",
    "    ax.set_ylabel(\"Probability Density\")\n",
    "    ax.grid(True)\n",
    "    ax.legend()\n",
    "    plt.show()\n",
    "\n",
    "# --- Sliders ---\n",
    "k_prior_slider = widgets.IntSlider(min=0, max=100, step=1, value=1, description=\"k_prior\", style={'description_width': 'initial'})\n",
    "n_prior_slider = widgets.IntSlider(min=0, max=100, step=1, value=2, description=\"n_prior\", style={'description_width': 'initial'})\n",
    "\n",
    "k_like_slider = widgets.IntSlider(min=0, max=100, step=1, value=1, description=\"k_like\", style={'description_width': 'initial'})\n",
    "n_like_slider = widgets.IntSlider(min=0, max=100, step=1, value=2, description=\"n_like\", style={'description_width': 'initial'})\n",
    "\n",
    "# --- Dynamic adjustment of k sliders ---\n",
    "def update_k_max_prior(*args):\n",
    "    k_prior_slider.max = n_prior_slider.value\n",
    "    if k_prior_slider.value > k_prior_slider.max:\n",
    "        k_prior_slider.value = k_prior_slider.max\n",
    "\n",
    "def update_k_max_like(*args):\n",
    "    k_like_slider.max = n_like_slider.value\n",
    "    if k_like_slider.value > k_like_slider.max:\n",
    "        k_like_slider.value = k_like_slider.max\n",
    "\n",
    "n_prior_slider.observe(update_k_max_prior, names='value')\n",
    "n_like_slider.observe(update_k_max_like, names='value')\n",
    "\n",
    "# --- UI layout ---\n",
    "ui = widgets.VBox([\n",
    "    widgets.HTML(\"<b style='color:blue'>Prior sliders</b>\"),\n",
    "    widgets.HBox([n_prior_slider, k_prior_slider]),\n",
    "    widgets.HTML(\"<b style='color:red'>Likelihood sliders</b>\"),\n",
    "    widgets.HBox([n_like_slider, k_like_slider])\n",
    "])\n",
    "\n",
    "out = widgets.interactive_output(plot_bayes, {\n",
    "    'k_prior': k_prior_slider,\n",
    "    'n_prior': n_prior_slider,\n",
    "    'k_like': k_like_slider,\n",
    "    'n_like': n_like_slider\n",
    "})\n",
    "\n",
    "display(ui, out)"
   ]
  },
  {
   "cell_type": "markdown",
   "id": "83b62990-758c-4abe-9601-40d7924183d8",
   "metadata": {},
   "source": [
    "## Same plots but now the posterior is properly scaled\n",
    "\n",
    "This now normalises the posterior distribution by dividing by the marginal likelihood according to Bayes rule, making it a proper probability distribution. \n",
    "\n",
    "We can now take the posterior distribution as our actual posterior beliefs. \n",
    "\n",
    "## Play around with the sliders \n",
    "\n",
    "You will see that the posterior is no longer the prior * likelihood\n",
    "\n",
    "Now it is (prior * likelihood) / marginal likelihood\n",
    "\n",
    "You can see the marginal likelihood in the legend. \n",
    "\n",
    "Does it check out?\n",
    "\n",
    "## Intuition\n",
    "\n",
    "The thing to look out for is that the likelihood is updating which values of theta to believe in or not as a function of how well they predicted the data\n",
    "\n",
    "Values of theta that have high likelihood, that predicted the data well will increase in the posterior belief \n",
    "\n",
    "Values of theta that have low likelihood, that predicted the data poorly will decrease in the posterior belief\n"
   ]
  },
  {
   "cell_type": "code",
   "execution_count": 4,
   "id": "aec344f5-475e-41ae-a78e-61180741252d",
   "metadata": {
    "trusted": true
   },
   "outputs": [
    {
     "data": {
      "application/vnd.jupyter.widget-view+json": {
       "model_id": "da0fc9ab33fe48d4a7cdf69d316deb52",
       "version_major": 2,
       "version_minor": 0
      },
      "text/plain": [
       "VBox(children=(HTML(value=\"<b style='color:blue'>Prior sliders</b>\"), HBox(children=(IntSlider(value=2, descri…"
      ]
     },
     "metadata": {},
     "output_type": "display_data"
    },
    {
     "data": {
      "application/vnd.jupyter.widget-view+json": {
       "model_id": "7b139a21c4d2436ab67fae1bfe18a5f7",
       "version_major": 2,
       "version_minor": 0
      },
      "text/plain": [
       "Output()"
      ]
     },
     "metadata": {},
     "output_type": "display_data"
    }
   ],
   "source": [
    "import numpy as np\n",
    "import matplotlib.pyplot as plt\n",
    "from scipy.stats import beta\n",
    "import ipywidgets as widgets\n",
    "from IPython.display import display\n",
    "\n",
    "x = np.linspace(0, 1, 1000)\n",
    "\n",
    "def plot_bayes(k_prior, n_prior, k_like, n_like):\n",
    "    # Prior\n",
    "    a_prior = k_prior + 1\n",
    "    b_prior = (n_prior - k_prior) + 1\n",
    "    y_prior = beta.pdf(x, a_prior, b_prior)\n",
    "\n",
    "    # Likelihood (as another Beta for visualization)\n",
    "    a_like = k_like + 1\n",
    "    b_like = (n_like - k_like) + 1\n",
    "    y_like = beta.pdf(x, a_like, b_like)\n",
    "\n",
    "    # Unnormalized Posterior = Prior × Likelihood\n",
    "    y_unnorm_post = y_prior * y_like\n",
    "\n",
    "    # Marginal likelihood (normalizing constant)\n",
    "    marginal_likelihood = np.trapz(y_unnorm_post, x)\n",
    "\n",
    "    # Normalized Posterior\n",
    "    y_post = y_unnorm_post / marginal_likelihood if marginal_likelihood > 0 else np.zeros_like(x)\n",
    "\n",
    "    # Plot\n",
    "    fig, ax = plt.subplots(figsize=(8, 6))\n",
    "    ax.plot(x, y_prior, label=\"Prior\", color=\"blue\")\n",
    "    ax.plot(x, y_like, label=\"Likelihood\", color=\"red\")\n",
    "\n",
    "    # NEW: include marginal likelihood in the legend\n",
    "    ml_text = f\"Posterior (marginal likelihood ≈ {marginal_likelihood:.3f})\"\n",
    "    ax.plot(x, y_post, label=ml_text, color=\"green\")\n",
    "\n",
    "    ax.set_title(\"Bayesian Updating (Normalized Posterior)\")\n",
    "    ax.set_xlabel(\"θ\")\n",
    "    ax.set_ylabel(\"Probability Density\")\n",
    "    ax.grid(True)\n",
    "    ax.legend()\n",
    "    plt.show()\n",
    "\n",
    "# --- Sliders ---\n",
    "k_prior_slider = widgets.IntSlider(min=0, max=100, step=1, value=1, description=\"k_prior\", style={'description_width': 'initial'})\n",
    "n_prior_slider = widgets.IntSlider(min=0, max=100, step=1, value=2, description=\"n_prior\", style={'description_width': 'initial'})\n",
    "\n",
    "k_like_slider = widgets.IntSlider(min=0, max=100, step=1, value=1, description=\"k_like\", style={'description_width': 'initial'})\n",
    "n_like_slider = widgets.IntSlider(min=0, max=100, step=1, value=2, description=\"n_like\", style={'description_width': 'initial'})\n",
    "\n",
    "# --- Dynamic adjustment of k sliders ---\n",
    "def update_k_max_prior(*args):\n",
    "    k_prior_slider.max = n_prior_slider.value\n",
    "    if k_prior_slider.value > k_prior_slider.max:\n",
    "        k_prior_slider.value = k_prior_slider.max\n",
    "\n",
    "def update_k_max_like(*args):\n",
    "    k_like_slider.max = n_like_slider.value\n",
    "    if k_like_slider.value > k_like_slider.max:\n",
    "        k_like_slider.value = k_like_slider.max\n",
    "\n",
    "n_prior_slider.observe(update_k_max_prior, names='value')\n",
    "n_like_slider.observe(update_k_max_like, names='value')\n",
    "\n",
    "# --- UI layout ---\n",
    "ui = widgets.VBox([\n",
    "    widgets.HTML(\"<b style='color:blue'>Prior sliders</b>\"),\n",
    "    widgets.HBox([n_prior_slider, k_prior_slider]),\n",
    "    widgets.HTML(\"<b style='color:red'>Likelihood sliders</b>\"),\n",
    "    widgets.HBox([n_like_slider, k_like_slider])\n",
    "])\n",
    "\n",
    "out = widgets.interactive_output(plot_bayes, {\n",
    "    'k_prior': k_prior_slider,\n",
    "    'n_prior': n_prior_slider,\n",
    "    'k_like': k_like_slider,\n",
    "    'n_like': n_like_slider\n",
    "})\n",
    "\n",
    "display(ui, out)"
   ]
  },
  {
   "cell_type": "markdown",
   "id": "2d902012-4c10-4f8b-9ead-4fe6147bc4fe",
   "metadata": {},
   "source": [
    "## Compute the Bayesian credible intervals\n",
    "\n",
    "Now we have a proper posterior, we may want to summarise it with credible intervals. \n",
    "\n",
    "Play with the slider that finds the Xth percentile credible interval. \n",
    "\n",
    "What happens to the interval when you drop the percentile lower?\n",
    "\n",
    "What is the highest interval? Why?\n",
    "\n",
    "## Plot the MAP\n",
    "\n",
    "Maximum a posteriori.\n",
    "\n",
    "What is it? How would you define it?\n"
   ]
  },
  {
   "cell_type": "code",
   "execution_count": 2,
   "id": "c92a1b1e-b2f1-4797-a0e9-b4e1d404e0bf",
   "metadata": {
    "trusted": true
   },
   "outputs": [
    {
     "data": {
      "application/vnd.jupyter.widget-view+json": {
       "model_id": "8e7026a2490b471587740786296fcfbb",
       "version_major": 2,
       "version_minor": 0
      },
      "text/plain": [
       "VBox(children=(HTML(value=\"<b style='color:blue'>Prior sliders</b>\"), HBox(children=(IntSlider(value=2, descri…"
      ]
     },
     "metadata": {},
     "output_type": "display_data"
    },
    {
     "data": {
      "application/vnd.jupyter.widget-view+json": {
       "model_id": "7c156e61ff5a40f3b417a680f9a48d4d",
       "version_major": 2,
       "version_minor": 0
      },
      "text/plain": [
       "Output()"
      ]
     },
     "metadata": {},
     "output_type": "display_data"
    }
   ],
   "source": [
    "import numpy as np\n",
    "import matplotlib.pyplot as plt\n",
    "from scipy.stats import beta\n",
    "import ipywidgets as widgets\n",
    "from IPython.display import display\n",
    "\n",
    "x = np.linspace(0, 1, 1000)\n",
    "\n",
    "def plot_bayes(k_prior, n_prior, k_like, n_like, ci_width, show_shading, show_mean, show_map, show_curves):\n",
    "    # Prior\n",
    "    a_prior = k_prior + 1\n",
    "    b_prior = (n_prior - k_prior) + 1\n",
    "    y_prior = beta.pdf(x, a_prior, b_prior)\n",
    "\n",
    "    # Likelihood (visualized as Beta)\n",
    "    a_like = k_like + 1\n",
    "    b_like = (n_like - k_like) + 1\n",
    "    y_like = beta.pdf(x, a_like, b_like)\n",
    "\n",
    "    # Unnormalized Posterior\n",
    "    y_unnorm_post = y_prior * y_like\n",
    "\n",
    "    # Marginal likelihood\n",
    "    marginal_likelihood = np.trapz(y_unnorm_post, x)\n",
    "\n",
    "    # Normalized Posterior\n",
    "    y_post = y_unnorm_post / marginal_likelihood if marginal_likelihood > 0 else np.zeros_like(x)\n",
    "\n",
    "    # Posterior distribution parameters\n",
    "    a_post = a_prior + a_like - 1\n",
    "    b_post = b_prior + b_like - 1\n",
    "\n",
    "    # Compute BCI\n",
    "    lower = beta.ppf((1 - ci_width / 100) / 2, a_post, b_post)\n",
    "    upper = beta.ppf(1 - (1 - ci_width / 100) / 2, a_post, b_post)\n",
    "\n",
    "    # Mean and MAP\n",
    "    posterior_mean = a_post / (a_post + b_post)\n",
    "    map_index = np.argmax(y_post)\n",
    "    posterior_map = x[map_index]\n",
    "\n",
    "    # Plotting\n",
    "    fig, ax = plt.subplots(figsize=(8, 6))\n",
    "    \n",
    "    if show_curves:\n",
    "        ax.plot(x, y_prior, label=\"Prior\", color=\"blue\")\n",
    "        ax.plot(x, y_like, label=\"Likelihood\", color=\"red\")\n",
    "\n",
    "    ml_text = f\"Posterior (marginal likelihood ≈ {marginal_likelihood:.3f})\"\n",
    "    ax.plot(x, y_post, label=ml_text, color=\"green\")\n",
    "\n",
    "    if show_shading:\n",
    "        ax.fill_between(x, y_post, where=(x >= lower) & (x <= upper), color='gray', alpha=0.3, label=f\"{ci_width}% BCI\")\n",
    "    else:\n",
    "        ax.axvline(lower, color='gray', linestyle='--', label=f\"{ci_width}% BCI\")\n",
    "        ax.axvline(upper, color='gray', linestyle='--')\n",
    "\n",
    "    if show_mean:\n",
    "        ax.axvline(posterior_mean, color='black', linestyle=':', label=\"Posterior Mean\")\n",
    "\n",
    "    if show_map:\n",
    "        ax.axvline(posterior_map, color='purple', linestyle='-.', label=\"Posterior MAP\")\n",
    "\n",
    "    ax.set_title(\"Bayesian Updating with BCI, Mean, and MAP\")\n",
    "    ax.set_xlabel(\"θ\")\n",
    "    ax.set_ylabel(\"Probability Density\")\n",
    "    ax.grid(True)\n",
    "    ax.legend()\n",
    "    plt.show()\n",
    "\n",
    "# Sliders\n",
    "k_prior_slider = widgets.IntSlider(min=0, max=100, step=1, value=1, description=\"k_prior\", style={'description_width': 'initial'})\n",
    "n_prior_slider = widgets.IntSlider(min=0, max=100, step=1, value=2, description=\"n_prior\", style={'description_width': 'initial'})\n",
    "\n",
    "k_like_slider = widgets.IntSlider(min=0, max=100, step=1, value=1, description=\"k_like\", style={'description_width': 'initial'})\n",
    "n_like_slider = widgets.IntSlider(min=0, max=100, step=1, value=2, description=\"n_like\", style={'description_width': 'initial'})\n",
    "\n",
    "ci_slider = widgets.IntSlider(min=50, max=99, step=1, value=95, description=\"BCI (%)\", style={'description_width': 'initial'})\n",
    "\n",
    "# Toggles\n",
    "shading_toggle = widgets.Checkbox(value=True, description='Shade BCI')\n",
    "mean_toggle = widgets.Checkbox(value=True, description='Show Posterior Mean')\n",
    "map_toggle = widgets.Checkbox(value=True, description='Show MAP')\n",
    "curves_toggle = widgets.Checkbox(value=True, description='Show Prior & Likelihood')\n",
    "\n",
    "# Auto-limit k sliders\n",
    "def update_k_max_prior(*args):\n",
    "    k_prior_slider.max = n_prior_slider.value\n",
    "    if k_prior_slider.value > k_prior_slider.max:\n",
    "        k_prior_slider.value = k_prior_slider.max\n",
    "\n",
    "def update_k_max_like(*args):\n",
    "    k_like_slider.max = n_like_slider.value\n",
    "    if k_like_slider.value > k_like_slider.max:\n",
    "        k_like_slider.value = k_like_slider.max\n",
    "\n",
    "n_prior_slider.observe(update_k_max_prior, names='value')\n",
    "n_like_slider.observe(update_k_max_like, names='value')\n",
    "\n",
    "# Layout\n",
    "ui = widgets.VBox([\n",
    "    widgets.HTML(\"<b style='color:blue'>Prior sliders</b>\"),\n",
    "    widgets.HBox([n_prior_slider, k_prior_slider]),\n",
    "    widgets.HTML(\"<b style='color:red'>Likelihood sliders</b>\"),\n",
    "    widgets.HBox([n_like_slider, k_like_slider]),\n",
    "    widgets.HTML(\"<b>Posterior Display Options</b>\"),\n",
    "    ci_slider,\n",
    "    shading_toggle,\n",
    "    mean_toggle,\n",
    "    map_toggle,\n",
    "    curves_toggle\n",
    "])\n",
    "\n",
    "out = widgets.interactive_output(plot_bayes, {\n",
    "    'k_prior': k_prior_slider,\n",
    "    'n_prior': n_prior_slider,\n",
    "    'k_like': k_like_slider,\n",
    "    'n_like': n_like_slider,\n",
    "    'ci_width': ci_slider,\n",
    "    'show_shading': shading_toggle,\n",
    "    'show_mean': mean_toggle,\n",
    "    'show_map': map_toggle,\n",
    "    'show_curves': curves_toggle\n",
    "})\n",
    "\n",
    "display(ui, out)"
   ]
  },
  {
   "cell_type": "markdown",
   "id": "7cf4e02f-4a3d-4275-8668-56707da36214",
   "metadata": {},
   "source": [
    "## Computing the posterior analytically: the special case of the beta distribution\n",
    "\n",
    "The beta distribution allows for a very simple way to compute the posterior just by adding n and k to the inputs.\n",
    "\n",
    "This is computing the posterior analytically, and it is a special case of the conjugate prior.\n",
    "\n",
    "This simplicity is not always possible. "
   ]
  },
  {
   "cell_type": "code",
   "execution_count": 12,
   "id": "2f705887-c214-4394-bf36-4086a22b0ac6",
   "metadata": {
    "trusted": true
   },
   "outputs": [
    {
     "data": {
      "application/vnd.jupyter.widget-view+json": {
       "model_id": "0e3a9eb9c8904d64aff8986a48daf3e3",
       "version_major": 2,
       "version_minor": 0
      },
      "text/plain": [
       "VBox(children=(HTML(value='<b>Beta Posterior: Special case of beta distribution</b>'), HBox(children=(IntSlide…"
      ]
     },
     "metadata": {},
     "output_type": "display_data"
    },
    {
     "data": {
      "application/vnd.jupyter.widget-view+json": {
       "model_id": "0bd49387245845a7bdf00bc0a1af1b26",
       "version_major": 2,
       "version_minor": 0
      },
      "text/plain": [
       "Output()"
      ]
     },
     "metadata": {},
     "output_type": "display_data"
    }
   ],
   "source": [
    "import numpy as np\n",
    "import matplotlib.pyplot as plt\n",
    "from scipy.stats import beta\n",
    "import ipywidgets as widgets\n",
    "from IPython.display import display, HTML\n",
    "\n",
    "x = np.linspace(0, 1, 1000)\n",
    "\n",
    "def plot_special_case(n, k):\n",
    "    if k > n:\n",
    "        print(\"Error: k must be ≤ n.\")\n",
    "        return\n",
    "\n",
    "    # Prior: Beta(1, 1)\n",
    "    a_prior, b_prior = 1, 1\n",
    "    y_prior = beta.pdf(x, a_prior, b_prior)\n",
    "\n",
    "    # Posterior: Beta(1 + k, 1 + n - k)\n",
    "    a_post = 1 + k\n",
    "    b_post = 1 + (n - k)\n",
    "    y_post = beta.pdf(x, a_post, b_post)\n",
    "\n",
    "    # Plot\n",
    "    fig, ax = plt.subplots(figsize=(8, 6))\n",
    "\n",
    "    # Plot prior\n",
    "    ax.plot(x, y_prior, label=\"Prior: Beta(1, 1)\", color=\"blue\")\n",
    "    ax.fill_between(x, y_prior, color=\"skyblue\", alpha=0.4)\n",
    "\n",
    "    # Plot posterior with full label (only once)\n",
    "    full_label = f\"Posterior: Beta(1 + k, 1 + (n − k)) = Beta(1 + {k}, 1 + {n - k})\"\n",
    "    ax.plot(x, y_post, label=full_label, color=\"green\")\n",
    "    ax.fill_between(x, y_post, color=\"lightgreen\", alpha=0.4)\n",
    "\n",
    "    # Adjust layout\n",
    "    ax.set_title(\"Bayesian Update for Go/NoGo Data\")\n",
    "    ax.set_xlabel(\"θ\")\n",
    "    ax.set_ylabel(\"Probability Density\")\n",
    "    ax.set_ylim(0, max(np.max(y_post), np.max(y_prior)) * 1.2)  # Extend y-axis to fit legend\n",
    "    ax.grid(True)\n",
    "\n",
    "    # Move legend to top center\n",
    "    ax.legend(loc='upper center', bbox_to_anchor=(0.5, 1.15), ncol=1)\n",
    "\n",
    "    plt.show()\n",
    "\n",
    "# Sliders\n",
    "n_slider = widgets.IntSlider(min=1, max=100, step=1, value=56, description=\"n (trials)\", style={'description_width': 'initial'})\n",
    "k_slider = widgets.IntSlider(min=0, max=56, step=1, value=43, description=\"k (correct)\", style={'description_width': 'initial'})\n",
    "\n",
    "# Auto-adjust k bounds\n",
    "def update_k_slider(*args):\n",
    "    k_slider.max = n_slider.value\n",
    "    if k_slider.value > k_slider.max:\n",
    "        k_slider.value = k_slider.max\n",
    "\n",
    "n_slider.observe(update_k_slider, names='value')\n",
    "\n",
    "# Layout\n",
    "ui = widgets.VBox([\n",
    "    widgets.HTML(\"<b>Beta Posterior: Special case of beta distribution</b>\"),\n",
    "    widgets.HBox([n_slider, k_slider])\n",
    "])\n",
    "\n",
    "out = widgets.interactive_output(plot_special_case, {'n': n_slider, 'k': k_slider})\n",
    "\n",
    "display(ui, out)\n"
   ]
  },
  {
   "cell_type": "markdown",
   "id": "e3437e64",
   "metadata": {},
   "source": [
    "## Sequential updating vs. aggregating data\n",
    "\n",
    "So now we can think about what happens when data rolls in. \n",
    "\n",
    "Suppose we have a dataset which is 9 out of 10 correct.\n",
    "\n",
    "Compute the posterior for this dataset by setting k to 9 and n to 10.\n",
    "\n",
    "Now suppose we have an additional dataset where k = 3 and n = 5. \n",
    "\n",
    "So what is the posterior now?\n",
    "\n",
    "There are two ways to compute the posterior. \n",
    "\n",
    "Compute the posterior for the first dataset, and then set that as the prior for the second dataset and compute it again. \n",
    "\n",
    "*todays posterior is tomorrow's prior*\n",
    "\n",
    "Try this.\n",
    "\n",
    "## Sequential update \n",
    "\n",
    "Recall, the Beta distribution is Beta(1+k, (n-k)+1)\n",
    "\n",
    "So if you have no data to begib with then n is 0 and k is 0.\n",
    "\n",
    "So the prior is Beta(1, 1)\n",
    "\n",
    "Then give it the first dataset (k = 9, n = 10). This gives you a posterior of Beta(10,2).\n",
    "\n",
    "Now set this posterior as a new prior Beta(10,2) and then update according to the second dataset (k = 3, n = 5).\n",
    "\n",
    "What is the posterior now?\n",
    "\n",
    "\n",
    "## Update all in one go\n",
    "\n",
    "Now lets compute the posterior for the two datasets together.\n",
    "\n",
    "Set the prior to be Beta(1,1) and set the data to be k = 9 + 3 = 12 and n = 10 + 5 = 15.\n",
    "\n",
    "Set the uniform prior Beta(1,1) then add the combined dataset (k=12, n=15).\n",
    "\n",
    "What is the posterior now?\n",
    "\n",
    "Are they the same or different? \n",
    "\n"
   ]
  },
  {
   "cell_type": "code",
   "execution_count": null,
   "id": "b6b5b418",
   "metadata": {},
   "outputs": [
    {
     "data": {
      "application/vnd.jupyter.widget-view+json": {
       "model_id": "465538ec0f684577bcb53da89a9c312c",
       "version_major": 2,
       "version_minor": 0
      },
      "text/plain": [
       "VBox(children=(HTML(value='<b>Sequential Bayesian Update</b>'), HTML(value='🔵 <b>Prior</b>'), HBox(children=(I…"
      ]
     },
     "metadata": {},
     "output_type": "display_data"
    },
    {
     "data": {
      "application/vnd.jupyter.widget-view+json": {
       "model_id": "992ad0e08ce644149c11a005602ee9d4",
       "version_major": 2,
       "version_minor": 0
      },
      "text/plain": [
       "Output()"
      ]
     },
     "metadata": {},
     "output_type": "display_data"
    }
   ],
   "source": [
    "import numpy as np\n",
    "import matplotlib.pyplot as plt\n",
    "from scipy.stats import beta\n",
    "import ipywidgets as widgets\n",
    "from IPython.display import display\n",
    "\n",
    "x = np.linspace(0, 1, 1000)\n",
    "\n",
    "def plot_update(n_prior, k_prior, n_new, k_new):\n",
    "    if k_prior > n_prior or k_new > n_new:\n",
    "        print(\"Error: k must be ≤ n.\")\n",
    "        return\n",
    "\n",
    "    # Prior = Beta(1 + k_prior, 1 + n_prior - k_prior)\n",
    "    a_prior = 1 + k_prior\n",
    "    b_prior = 1 + (n_prior - k_prior)\n",
    "    y_prior = beta.pdf(x, a_prior, b_prior)\n",
    "\n",
    "    # Posterior = Beta(1 + total_k, 1 + total_n - total_k)\n",
    "    total_k = k_prior + k_new\n",
    "    total_n = n_prior + n_new\n",
    "    a_post = 1 + total_k\n",
    "    b_post = 1 + (total_n - total_k)\n",
    "    y_post = beta.pdf(x, a_post, b_post)\n",
    "\n",
    "    # Plot\n",
    "    fig, ax = plt.subplots(figsize=(8, 6))\n",
    "\n",
    "    ax.plot(x, y_prior, label=f\"Prior: Beta(1 + {k_prior}, 1 + {n_prior - k_prior})\", color=\"blue\")\n",
    "    ax.fill_between(x, y_prior, color=\"skyblue\", alpha=0.4)\n",
    "\n",
    "    ax.plot(x, y_post, label=f\"Posterior: Beta(1 + {total_k}, 1 + {total_n - total_k})\", color=\"green\")\n",
    "    ax.fill_between(x, y_post, color=\"lightgreen\", alpha=0.4)\n",
    "\n",
    "    ax.set_title(\"Bayesian Update: Prior + New Data → Posterior\")\n",
    "    ax.set_xlabel(\"θ\")\n",
    "    ax.set_ylabel(\"Probability Density\")\n",
    "    ax.set_ylim(0, max(np.max(y_prior), np.max(y_post)) * 1.2)\n",
    "    ax.grid(True)\n",
    "    ax.legend(loc='upper center', bbox_to_anchor=(0.5, 1.15))\n",
    "\n",
    "    plt.show()\n",
    "\n",
    "# Sliders\n",
    "n_prior_slider = widgets.IntSlider(min=0, max=100, step=1, value=20, description=\"n_prior\")\n",
    "k_prior_slider = widgets.IntSlider(min=0, max=20, step=1, value=10, description=\"k_prior\")\n",
    "\n",
    "n_new_slider = widgets.IntSlider(min=0, max=100, step=1, value=30, description=\"n_new\")\n",
    "k_new_slider = widgets.IntSlider(min=0, max=30, step=1, value=15, description=\"k_new\")\n",
    "\n",
    "# Auto-limit k sliders\n",
    "def update_k_prior_max(*args):\n",
    "    k_prior_slider.max = n_prior_slider.value\n",
    "    if k_prior_slider.value > k_prior_slider.max:\n",
    "        k_prior_slider.value = k_prior_slider.max\n",
    "\n",
    "def update_k_new_max(*args):\n",
    "    k_new_slider.max = n_new_slider.value\n",
    "    if k_new_slider.value > k_new_slider.max:\n",
    "        k_new_slider.value = k_new_slider.max\n",
    "\n",
    "n_prior_slider.observe(update_k_prior_max, names='value')\n",
    "n_new_slider.observe(update_k_new_max, names='value')\n",
    "\n",
    "# Layout\n",
    "ui = widgets.VBox([\n",
    "    widgets.HTML(\"<b>Sequential Bayesian Update</b>\"),\n",
    "    widgets.HTML(\"🔵 <b>Prior</b>\"),\n",
    "    widgets.HBox([n_prior_slider, k_prior_slider]),\n",
    "    widgets.HTML(\"🟢 <b>New Data</b>\"),\n",
    "    widgets.HBox([n_new_slider, k_new_slider])\n",
    "])\n",
    "\n",
    "out = widgets.interactive_output(plot_update, {\n",
    "    'n_prior': n_prior_slider,\n",
    "    'k_prior': k_prior_slider,\n",
    "    'n_new': n_new_slider,\n",
    "    'k_new': k_new_slider\n",
    "})\n",
    "\n",
    "display(ui, out)\n"
   ]
  },
  {
   "cell_type": "markdown",
   "id": "678268e1",
   "metadata": {},
   "source": [
    "## MCMC demo\n",
    "\n",
    "To illustrate the power of MCMC, we demo with this interactive example\n",
    "\n",
    "Play with the data k and n. Compare it to the analytical posterior for the same data.\n",
    "\n",
    "How do you get the MCMC posterior to better match the analytical posterior?\n"
   ]
  },
  {
   "cell_type": "code",
   "execution_count": null,
   "id": "1e7a32e0",
   "metadata": {},
   "outputs": [
    {
     "data": {
      "application/vnd.jupyter.widget-view+json": {
       "model_id": "c3475e47220c4b4fa4d7e188f1696cc6",
       "version_major": 2,
       "version_minor": 0
      },
      "text/plain": [
       "VBox(children=(IntSlider(value=6, description='Successes (k):', max=20), IntSlider(value=10, description='Tria…"
      ]
     },
     "metadata": {},
     "output_type": "display_data"
    },
    {
     "data": {
      "application/vnd.jupyter.widget-view+json": {
       "model_id": "c33d204513a545c09e0f0754ef577f70",
       "version_major": 2,
       "version_minor": 0
      },
      "text/plain": [
       "Output()"
      ]
     },
     "metadata": {},
     "output_type": "display_data"
    }
   ],
   "source": [
    "import pyjags\n",
    "import numpy as np\n",
    "import matplotlib.pyplot as plt\n",
    "import ipywidgets as widgets\n",
    "from IPython.display import display\n",
    "from scipy.stats import beta\n",
    "\n",
    "# Ensure plots show correctly\n",
    "%matplotlib inline\n",
    "\n",
    "def run_jags(k=6, n=10, samples=1000, show_analytic=False):\n",
    "    if k > n:\n",
    "        print(\"k must be ≤ n\")\n",
    "        return\n",
    "    \n",
    "    y = np.array([1]*k + [0]*(n-k))\n",
    "\n",
    "    model_code = \"\"\"\n",
    "    model {\n",
    "      for (i in 1:N) {\n",
    "        y[i] ~ dbern(theta)\n",
    "      }\n",
    "      theta ~ dbeta(1, 1)\n",
    "    }\n",
    "    \"\"\"\n",
    "\n",
    "    data = {\"y\": y, \"N\": len(y)}\n",
    "    inits = [{\"theta\": 0.5}]\n",
    "    \n",
    "    model = pyjags.Model(code=model_code, data=data, init=inits, chains=1)\n",
    "    model.update(100)  # Burn-in\n",
    "    result = model.sample(samples, vars=[\"theta\"])\n",
    "    theta_samples = result[\"theta\"].reshape(-1)\n",
    "\n",
    "    # Start plotting\n",
    "    plt.figure(figsize=(7, 4))\n",
    "    plt.hist(theta_samples, bins=30, density=True, alpha=0.6, label='MCMC posterior')\n",
    "\n",
    "    # Optionally add analytic posterior\n",
    "    if show_analytic:\n",
    "        alpha_post = 1 + k\n",
    "        beta_post = 1 + (n - k)\n",
    "        theta_vals = np.linspace(0, 1, 200)\n",
    "        analytical_posterior = beta.pdf(theta_vals, alpha_post, beta_post)\n",
    "        plt.plot(theta_vals, analytical_posterior, 'r-', lw=2, label='Analytical posterior')\n",
    "\n",
    "    plt.title(f\"Posterior of θ (k={k}, n={n})\")\n",
    "    plt.xlabel(\"θ\")\n",
    "    plt.ylabel(\"Density\")\n",
    "    if show_analytic:\n",
    "        plt.legend()\n",
    "    plt.grid(True)\n",
    "    plt.show()\n",
    "\n",
    "# Widgets\n",
    "k_slider = widgets.IntSlider(value=6, min=0, max=20, step=1, description='Successes (k):')\n",
    "n_slider = widgets.IntSlider(value=10, min=1, max=20, step=1, description='Trials (n):')\n",
    "sample_slider = widgets.IntSlider(value=100, min=100, max=10000, step=100, description='Samples:')\n",
    "analytic_toggle = widgets.Checkbox(value=False, description='Show analytic posterior')\n",
    "\n",
    "# Display widgets and output\n",
    "ui = widgets.VBox([k_slider, n_slider, sample_slider, analytic_toggle])\n",
    "out = widgets.interactive_output(run_jags, {\n",
    "    'k': k_slider,\n",
    "    'n': n_slider,\n",
    "    'samples': sample_slider,\n",
    "    'show_analytic': analytic_toggle\n",
    "})\n",
    "\n",
    "display(ui, out)\n"
   ]
  },
  {
   "cell_type": "markdown",
   "id": "56ac5f4e",
   "metadata": {},
   "source": [
    "## Visualising the binomial distribution\n",
    "\n",
    "The binomial distribution is a discrete probability distribution that describes the number of successes in a fixed number of independent Bernoulli trials, each with the same probability of success.\n",
    "\n",
    "You just need to set n and the theta and you will get a probability for each value of k.\n",
    "\n",
    "This represents how likely each value of k is given the parameters n and theta. "
   ]
  },
  {
   "cell_type": "code",
   "execution_count": null,
   "id": "a900aec7",
   "metadata": {},
   "outputs": [
    {
     "data": {
      "application/vnd.jupyter.widget-view+json": {
       "model_id": "d6e21956583b44aeaa527ae6030228c2",
       "version_major": 2,
       "version_minor": 0
      },
      "text/plain": [
       "interactive(children=(IntSlider(value=10, description='n (trials)', max=50, min=1), FloatSlider(value=0.5, des…"
      ]
     },
     "metadata": {},
     "output_type": "display_data"
    },
    {
     "data": {
      "text/plain": [
       "<function __main__.plot_binomial(n=10, theta=0.5)>"
      ]
     },
     "execution_count": 7,
     "metadata": {},
     "output_type": "execute_result"
    }
   ],
   "source": [
    "import numpy as np\n",
    "import matplotlib.pyplot as plt\n",
    "from scipy.stats import binom\n",
    "import ipywidgets as widgets\n",
    "from IPython.display import display\n",
    "\n",
    "def plot_binomial(n=10, theta=0.5):\n",
    "    k_values = np.arange(0, n+1)\n",
    "    pmf_values = binom.pmf(k_values, n, theta)\n",
    "\n",
    "    plt.figure(figsize=(8, 4))\n",
    "    # FIXED: use_line_collection goes *last* after all other keyword arguments\n",
    "    markerline, stemlines, baseline = plt.stem(\n",
    "        k_values,\n",
    "        pmf_values,\n",
    "        linefmt='gray',\n",
    "        markerfmt='D',\n",
    "        basefmt=\" \",\n",
    "        use_line_collection=True\n",
    "    )\n",
    "    plt.setp(markerline, markerfacecolor='black')\n",
    "    plt.title(rf\"$k \\sim \\mathrm{{Binomial}}(n={n},\\ \\theta={theta})$\", fontsize=14)\n",
    "    plt.xlabel(\"Number of successes (k)\")\n",
    "    plt.ylabel(r\"$p(k \\mid \\theta, n)$\")\n",
    "    plt.ylim(0, 1)\n",
    "    plt.grid(True, linestyle='--', alpha=0.5)\n",
    "    plt.show()\n",
    "\n",
    "# Interactive sliders\n",
    "n_slider = widgets.IntSlider(value=10, min=1, max=50, step=1, description='n (trials)')\n",
    "theta_slider = widgets.FloatSlider(value=0.5, min=0.01, max=0.99, step=0.01, description='θ (probability)')\n",
    "\n",
    "widgets.interact(plot_binomial, n=n_slider, theta=theta_slider)\n"
   ]
  },
  {
   "cell_type": "markdown",
   "id": "4bffcce5",
   "metadata": {},
   "source": [
    "## Visualising the binomial distribution in terms of the theta\n",
    "\n",
    "Now we can visualise the binomial distribution in terms of the theta. Thus for a given k that is observed, how likely is each value of theta? \n",
    "\n",
    "Which theta is most likely to have produced the observed data?\n",
    "\n",
    "Play around with k and n to set what the observed data is."
   ]
  },
  {
   "cell_type": "code",
   "execution_count": null,
   "id": "974b45b4",
   "metadata": {},
   "outputs": [
    {
     "data": {
      "application/vnd.jupyter.widget-view+json": {
       "model_id": "cfa601e2de90437d8955a8167daaee98",
       "version_major": 2,
       "version_minor": 0
      },
      "text/plain": [
       "interactive(children=(IntSlider(value=10, description='n (trials)', max=50, min=1), IntSlider(value=5, descrip…"
      ]
     },
     "metadata": {},
     "output_type": "display_data"
    },
    {
     "data": {
      "text/plain": [
       "<function __main__.plot_likelihood(n=10, k=5)>"
      ]
     },
     "execution_count": 8,
     "metadata": {},
     "output_type": "execute_result"
    }
   ],
   "source": [
    "import numpy as np\n",
    "import matplotlib.pyplot as plt\n",
    "from scipy.stats import binom\n",
    "import ipywidgets as widgets\n",
    "from IPython.display import display\n",
    "\n",
    "def plot_likelihood(n=10, k=5):\n",
    "    theta_values = np.linspace(0, 1, 500)\n",
    "    likelihood_values = binom.pmf(k, n, theta_values)\n",
    "\n",
    "    plt.figure(figsize=(8, 4))\n",
    "    plt.plot(theta_values, likelihood_values, color='black')\n",
    "    plt.title(rf\"$p(k={k} \\mid \\theta, n={n})$: Likelihood as a function of $\\theta$\", fontsize=14)\n",
    "    plt.xlabel(r\"$\\theta$\")\n",
    "    plt.ylabel(r\"$p(k \\mid \\theta, n)$\")\n",
    "    plt.grid(True, linestyle='--', alpha=0.5)\n",
    "    plt.ylim(0, 1)\n",
    "    plt.show()\n",
    "\n",
    "# Sliders for n and k\n",
    "n_slider = widgets.IntSlider(value=10, min=1, max=50, step=1, description='n (trials)')\n",
    "k_slider = widgets.IntSlider(value=5, min=0, max=50, step=1, description='k (successes)')\n",
    "\n",
    "# Update the max value of k based on current n\n",
    "def update_k_range(*args):\n",
    "    k_slider.max = n_slider.value\n",
    "    if k_slider.value > k_slider.max:\n",
    "        k_slider.value = k_slider.max\n",
    "\n",
    "n_slider.observe(update_k_range, 'value')\n",
    "\n",
    "# Interactive plot\n",
    "widgets.interact(plot_likelihood, n=n_slider, k=k_slider)\n"
   ]
  },
  {
   "cell_type": "markdown",
   "id": "e83d40d7",
   "metadata": {},
   "source": [
    "## Using JAGS to sample from the posterior for a binomial rate process\n",
    "\n",
    "Here we run the simple model via pyJAGS\n",
    "\n",
    "This is an implementation of JAGS in Python.\n",
    "\n",
    "You can set n and k by the sliders, as well as the number of samples s to draw from the posterior.\n",
    "\n",
    "What happens to the posterior when you increase the number of samples?\n",
    "\n",
    "what happens when you change k? what happens to the posterior?\n",
    "\n",
    "what happens when you increase n and keep the proportion k/n the same? why?"
   ]
  },
  {
   "cell_type": "code",
   "execution_count": 29,
   "id": "abeed198",
   "metadata": {},
   "outputs": [
    {
     "data": {
      "application/vnd.jupyter.widget-view+json": {
       "model_id": "e42fa3ffca8b47e98bea09c3e090a520",
       "version_major": 2,
       "version_minor": 0
      },
      "text/plain": [
       "VBox(children=(IntSlider(value=10, description='n', min=1), IntSlider(value=5, description='k', max=10), IntSl…"
      ]
     },
     "metadata": {},
     "output_type": "display_data"
    },
    {
     "data": {
      "image/png": "[encoded data removed]",
      "text/plain": [
       "<Figure size 1200x400 with 2 Axes>"
      ]
     },
     "metadata": {},
     "output_type": "display_data"
    }
   ],
   "source": [
    "import pyjags\n",
    "import numpy as np\n",
    "import ipywidgets as widgets\n",
    "from IPython.display import display\n",
    "import matplotlib.pyplot as plt\n",
    "\n",
    "# JAGS model\n",
    "model_code = \"\"\"\n",
    "model {\n",
    "  theta ~ dbeta(1,1)\n",
    "  k_obs ~ dbin(theta, n)\n",
    "}\n",
    "\"\"\"\n",
    "\n",
    "# Sliders\n",
    "n_slider = widgets.IntSlider(value=10, min=1, max=100, step=1, description='n')\n",
    "k_slider = widgets.IntSlider(value=5, min=0, max=10, step=1, description='k')\n",
    "s_slider = widgets.IntSlider(value=1000, min=100, max=5000, step=100, description='Samples')\n",
    "\n",
    "# Keep k ≤ n\n",
    "def update_k_max(*args):\n",
    "    k_slider.max = n_slider.value\n",
    "    if k_slider.value > n_slider.value:\n",
    "        k_slider.value = n_slider.value\n",
    "\n",
    "n_slider.observe(update_k_max, 'value')\n",
    "\n",
    "# Run model + plot\n",
    "def run_model(n, k, s):\n",
    "    print(f\"Running model with n={n}, k={k}, samples={s}\")\n",
    "\n",
    "    data = {'n': n, 'k_obs': k}\n",
    "    model = pyjags.Model(model_code, data=data, chains=4)\n",
    "    model.update(1000)\n",
    "    samples = model.sample(s, vars=['theta'])\n",
    "\n",
    "    theta = samples['theta']\n",
    "    chain_1 = theta[0, :, 0]  # only chain 1\n",
    "\n",
    "    print(f\"Chain 1 mean: {np.mean(chain_1):.3f}\")\n",
    "    print(f\"Chain 1 std: {np.std(chain_1):.3f}\")\n",
    "\n",
    "    fig, axs = plt.subplots(1, 2, figsize=(12, 4), gridspec_kw={'width_ratios': [2, 1]})\n",
    "\n",
    "    # Trace plot\n",
    "    axs[0].plot(chain_1, lw=1)\n",
    "    axs[0].set_title(\"Trace of θ (Chain 1)\")\n",
    "    axs[0].set_xlabel(\"Sample\")\n",
    "    axs[0].set_ylabel(\"θ\")\n",
    "    axs[0].set_ylim(0, 1)\n",
    "    axs[0].grid(True)\n",
    "\n",
    "    # Horizontal histogram (posterior)\n",
    "    axs[1].hist(chain_1, bins=30, orientation='horizontal', density=True, color='gray', edgecolor='black')\n",
    "    axs[1].set_title(\"Posterior of θ\")\n",
    "    axs[1].set_xlabel(\"Density\")\n",
    "    axs[1].set_ylabel(\"θ\")\n",
    "    axs[1].set_ylim(0, 1)\n",
    "    axs[1].grid(True)\n",
    "\n",
    "    plt.tight_layout()\n",
    "    plt.show()\n",
    "\n",
    "# Button\n",
    "run_button = widgets.Button(description=\"Run JAGS\")\n",
    "\n",
    "def on_button_clicked(b):\n",
    "    run_model(n_slider.value, k_slider.value, s_slider.value)\n",
    "\n",
    "run_button.on_click(on_button_clicked)\n",
    "\n",
    "# Display\n",
    "display(widgets.VBox([n_slider, k_slider, s_slider, run_button]))\n"
   ]
  }
 ],
 "metadata": {
  "kernelspec": {
   "display_name": "bayesian-models",
   "language": "python",
   "name": "python3"
  },
  "language_info": {
   "codemirror_mode": {
    "name": "ipython",
    "version": 3
   },
   "file_extension": ".py",
   "mimetype": "text/x-python",
   "name": "python",
   "nbconvert_exporter": "python",
   "pygments_lexer": "ipython3",
   "version": "3.10.17"
  }
 },
 "nbformat": 4,
 "nbformat_minor": 5
}
