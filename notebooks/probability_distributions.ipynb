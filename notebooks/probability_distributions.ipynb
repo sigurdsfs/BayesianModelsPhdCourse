{
 "cells": [
  {
   "cell_type": "markdown",
   "id": "93f74307",
   "metadata": {},
   "source": [
    "## Interactive distributions\n",
    "\n",
    "Adjust the sliders to change the mean (μ) and standard deviation (σ) of the distribution.\n",
    "\n",
    "The mean moves the distribution so that its mean is higher or lower\n",
    "\n",
    "The standard deviation changes the spread, changing the uncertainty of the belief\n",
    "\n",
    "## Play with the distributions\n",
    "\n",
    "Use the sliders to generate distributions that represent different prior beliefs for theta:\n",
    "\n",
    "  - *Certain belief that the theta is high*\n",
    "\n",
    "  - *Certain belief that the theta is low* \n",
    "  \n",
    "  - *Uncertain belief that the theta is high*   \n",
    "  \n",
    "  - *Uncertain belief that the theta is low* "
   ]
  },
  {
   "cell_type": "code",
   "execution_count": null,
   "id": "59dabc1f",
   "metadata": {},
   "outputs": [
    {
     "data": {
      "application/vnd.jupyter.widget-view+json": {
       "model_id": "2d4fd2c2e0b94d519045e8afde09bc7d",
       "version_major": 2,
       "version_minor": 0
      },
      "text/plain": [
       "interactive(children=(FloatSlider(value=0.0, description='μ', max=10.0, min=-10.0), FloatSlider(value=1.0, des…"
      ]
     },
     "metadata": {},
     "output_type": "display_data"
    }
   ],
   "source": [
    "import numpy as np\n",
    "import matplotlib.pyplot as plt\n",
    "import ipywidgets as widgets\n",
    "from ipywidgets import interact\n",
    "from scipy.stats import norm\n",
    "\n",
    "def plot_gaussian(mu=0.0, sigma=1.0):\n",
    "    # Fixed x range\n",
    "    x = np.linspace(-20, 20, 1000)\n",
    "    y = norm.pdf(x, mu, sigma)\n",
    "\n",
    "    fig, ax = plt.subplots(figsize=(8, 6))\n",
    "    ax.plot(x, y, label=f'N({mu:.2f}, {sigma:.2f}²)', color='purple')\n",
    "    ax.fill_between(x, y, color='plum', alpha=0.4)\n",
    "    ax.set_title(\"Gaussian Distribution\")\n",
    "    ax.set_xlabel(\"θ\")\n",
    "    ax.set_ylabel(\"Probability Density\")\n",
    "    ax.set_xlim(-20, 20)\n",
    "    ax.set_ylim(0, 3)\n",
    "    ax.grid(True)\n",
    "    ax.legend()\n",
    "    plt.show()\n",
    "\n",
    "interact(\n",
    "    plot_gaussian,\n",
    "    mu=widgets.FloatSlider(min=-10, max=10, step=0.1, value=0.0, description=\"μ\"),\n",
    "    sigma=widgets.FloatSlider(min=0.1, max=5.0, step=0.1, value=1.0, description=\"σ\")\n",
    ");"
   ]
  },
  {
   "cell_type": "markdown",
   "id": "4eca423f",
   "metadata": {},
   "source": [
    "## Interpreting probability distributions\n",
    "\n",
    "There are intuitive ways to read off probabilities from probability distributions like these.\n",
    "\n",
    "According to the belief encoded by the distribution, the probability of theta being larger than 0.5 is the area under the curve above this value\n",
    "\n",
    "Similarly, the probability of theta being between 0.1 and 0.7 is the area under the curve between these two values\n",
    "\n",
    "Play with the sliders to see how the area under the curve changes as you change the minimum and maximum values.\n",
    "\n",
    "The shaded area represents the probability of theta being in the range you selected."
   ]
  },
  {
   "cell_type": "code",
   "execution_count": null,
   "id": "e04c3ddb",
   "metadata": {},
   "outputs": [
    {
     "data": {
      "application/vnd.jupyter.widget-view+json": {
       "model_id": "d4ebafb9f6b0449d93b2dd5161112a61",
       "version_major": 2,
       "version_minor": 0
      },
      "text/plain": [
       "interactive(children=(FloatSlider(value=0.0, description='μ', max=10.0, min=-10.0), FloatSlider(value=1.0, des…"
      ]
     },
     "metadata": {},
     "output_type": "display_data"
    },
    {
     "data": {
      "text/plain": [
       "<function __main__.plot_gaussian(mu=0.0, sigma=1.0, x_min=-1.0, x_max=1.0)>"
      ]
     },
     "execution_count": 4,
     "metadata": {},
     "output_type": "execute_result"
    }
   ],
   "source": [
    "import numpy as np\n",
    "import matplotlib.pyplot as plt\n",
    "import ipywidgets as widgets\n",
    "from ipywidgets import interact\n",
    "from scipy.stats import norm\n",
    "\n",
    "def plot_gaussian(mu=0.0, sigma=1.0, x_min=-1.0, x_max=1.0):\n",
    "    # Fixed x range\n",
    "    x = np.linspace(-20, 20, 1000)\n",
    "    y = norm.pdf(x, mu, sigma)\n",
    "\n",
    "    fig, ax = plt.subplots(figsize=(8, 6))\n",
    "    ax.plot(x, y, label=f'N({mu:.2f}, {sigma:.2f}²)', color='purple')\n",
    "\n",
    "    # Fill full curve lightly\n",
    "    ax.fill_between(x, y, color='plum', alpha=0.2)\n",
    "\n",
    "    # Highlight area between x_min and x_max\n",
    "    mask = (x >= x_min) & (x <= x_max)\n",
    "    ax.fill_between(x[mask], y[mask], color='mediumvioletred', alpha=0.6,\n",
    "                    label=f\"P({x_min:.2f} < θ < {x_max:.2f}) ≈ {norm.cdf(x_max, mu, sigma) - norm.cdf(x_min, mu, sigma):.2f}\")\n",
    "\n",
    "    ax.set_title(\"Probability as Area Under the Curve\")\n",
    "    ax.set_xlabel(\"θ\")\n",
    "    ax.set_ylabel(\"Probability Density\")\n",
    "    ax.set_xlim(-20, 20)\n",
    "    ax.set_ylim(0, max(y) * 1.1)\n",
    "    ax.grid(True)\n",
    "    ax.legend()\n",
    "    plt.show()\n",
    "\n",
    "interact(\n",
    "    plot_gaussian,\n",
    "    mu=widgets.FloatSlider(min=-10, max=10, step=0.1, value=0.0, description=\"μ\"),\n",
    "    sigma=widgets.FloatSlider(min=0.1, max=5.0, step=0.1, value=1.0, description=\"σ\"),\n",
    "    x_min=widgets.FloatSlider(min=-10, max=10, step=0.1, value=-1.0, description=\"x min\"),\n",
    "    x_max=widgets.FloatSlider(min=-10, max=10, step=0.1, value=1.0, description=\"x max\")\n",
    ")\n"
   ]
  },
  {
   "cell_type": "markdown",
   "id": "3a39a2c8",
   "metadata": {},
   "source": [
    "## Bayesian credibility intervals\n",
    "\n",
    "A Bayesian credibility interval is a range of values that contains the true value of the parameter with a certain probability. \n",
    "\n",
    "It is similar to a confidence interval in frequentist statistics, but it is based on the posterior distribution of the parameter rather than the sampling distribution.\n",
    "\n",
    "Its interpretation is actually what most people think of when they hear the term \"confidence interval\". Its what they are looking for when they ask for a confidence interval.\n",
    "\n",
    "You can construct a Bayesian credibility interval by picking the probability you want to contain the true value of the parameter, and then finding the range of values that contains that probability. \n",
    "\n",
    "Play with the sliders to see how the credibility interval changes as you change the probability.\n",
    "\n",
    "The most typical is the 95% credibility interval $BCI_{95}$, which contains the value of the parameter with 95% probability.  \n",
    "\n",
    "The 50% credibility interval $BCI_{50}$ would contains the value of the parameter with 50% probability. And so on.\n"
   ]
  },
  {
   "cell_type": "code",
   "execution_count": null,
   "id": "61b5b361",
   "metadata": {},
   "outputs": [
    {
     "data": {
      "application/vnd.jupyter.widget-view+json": {
       "model_id": "92c40b155f51445683cb62f680cb624a",
       "version_major": 2,
       "version_minor": 0
      },
      "text/plain": [
       "interactive(children=(FloatSlider(value=0.0, description='μ', max=10.0, min=-10.0), FloatSlider(value=1.0, des…"
      ]
     },
     "metadata": {},
     "output_type": "display_data"
    },
    {
     "data": {
      "text/plain": [
       "<function __main__.plot_gaussian_bci(mu=0.0, sigma=1.0, bci=95.0)>"
      ]
     },
     "execution_count": 5,
     "metadata": {},
     "output_type": "execute_result"
    }
   ],
   "source": [
    "import numpy as np\n",
    "import matplotlib.pyplot as plt\n",
    "import ipywidgets as widgets\n",
    "from ipywidgets import interact\n",
    "from scipy.stats import norm\n",
    "\n",
    "def plot_gaussian_bci(mu=0.0, sigma=1.0, bci=95.0):\n",
    "    # Fixed x range\n",
    "    x = np.linspace(mu - 4*sigma, mu + 4*sigma, 1000)\n",
    "    y = norm.pdf(x, mu, sigma)\n",
    "\n",
    "    # Compute the central credible interval bounds\n",
    "    alpha = 1 - bci / 100\n",
    "    lower_bound = norm.ppf(alpha / 2, mu, sigma)\n",
    "    upper_bound = norm.ppf(1 - alpha / 2, mu, sigma)\n",
    "\n",
    "    # Max density for horizontal line\n",
    "    y_bound = norm.pdf([lower_bound, upper_bound], mu, sigma).min()\n",
    "\n",
    "    fig, ax = plt.subplots(figsize=(8, 6))\n",
    "\n",
    "    # Plot the density curve\n",
    "    ax.plot(x, y, label=f'N({mu:.2f}, {sigma:.2f}²)', color='purple')\n",
    "\n",
    "    # Shade full area lightly\n",
    "    ax.fill_between(x, y, color='plum', alpha=0.2)\n",
    "\n",
    "    # Shade credible interval\n",
    "    mask = (x >= lower_bound) & (x <= upper_bound)\n",
    "    ax.fill_between(x[mask], y[mask], color='mediumvioletred', alpha=0.6,\n",
    "                    label=f\"{bci:.0f}% BCI: [{lower_bound:.2f}, {upper_bound:.2f}]\")\n",
    "\n",
    "    # Draw horizontal line intersecting the interval ends\n",
    "    ax.hlines(y=y_bound, xmin=lower_bound, xmax=upper_bound,\n",
    "              color='black', linestyle='--', linewidth=1)\n",
    "\n",
    "    # Add vertical lines at bounds\n",
    "    ax.vlines([lower_bound, upper_bound], ymin=0, ymax=y_bound,\n",
    "              color='black', linestyle='--', linewidth=1)\n",
    "\n",
    "    # Labels and legend\n",
    "    ax.set_title(\"Central Bayesian Credible Interval (BCI)\")\n",
    "    ax.set_xlabel(\"θ\")\n",
    "    ax.set_ylabel(\"Probability Density\")\n",
    "    ax.set_xlim(mu - 4*sigma, mu + 4*sigma)\n",
    "    ax.set_ylim(0, max(y) * 1.1)\n",
    "    ax.grid(True)\n",
    "    ax.legend()\n",
    "    plt.show()\n",
    "\n",
    "interact(\n",
    "    plot_gaussian_bci,\n",
    "    mu=widgets.FloatSlider(min=-10, max=10, step=0.1, value=0.0, description=\"μ\"),\n",
    "    sigma=widgets.FloatSlider(min=0.1, max=5.0, step=0.1, value=1.0, description=\"σ\"),\n",
    "    bci=widgets.FloatSlider(min=50, max=99, step=1, value=95, description=\"BCI (%)\")\n",
    ")\n"
   ]
  },
  {
   "cell_type": "markdown",
   "id": "64b178de",
   "metadata": {},
   "source": [
    "## Lets set a prior belief for theta\n",
    "\n",
    "We need to think carefully about what theta means\n",
    "\n",
    "Theta is representing cognitive ability in our go-no-go task\n",
    "\n",
    "0 is the worst possible cognitive ability, and 1 is the best possible cognitive ability.\n",
    "\n",
    "So we need to set a prior distribution for theta that is between 0 and 1.\n",
    "\n",
    "The distributions are above do not do this so lets fix this. \n",
    "\n",
    "We can use a beta distribution to represent our prior belief about theta.\n",
    "\n",
    "The beta distribution is a continuous probability distribution defined on the interval [0, 1] so it is perfect for our needs.\n",
    "\n",
    "Play around with beta distribution parameters to see how the shape of the distribution changes.\n",
    "\n",
    "- **You are complete uncertain about the ability**  \n",
    "  → Set the highest spread you can \n",
    "  - widest possible prior\n",
    "\n",
    "- **You are quite certain that ability will be high**  \n",
    "  → Set a **narrow** prior centered on a **high value**\n",
    "\n",
    "- **You are uncertain but you think ability is low**  \n",
    "  → Set a **wide** prior centered on a **low value**\n"
   ]
  },
  {
   "cell_type": "code",
   "execution_count": 8,
   "id": "f922766f",
   "metadata": {},
   "outputs": [
    {
     "data": {
      "application/vnd.jupyter.widget-view+json": {
       "model_id": "c76bd8bc6fc7406d8647570ffa66f83b",
       "version_major": 2,
       "version_minor": 0
      },
      "text/plain": [
       "VBox(children=(IntSlider(value=2, description='n'), IntSlider(value=1, description='k')))"
      ]
     },
     "metadata": {},
     "output_type": "display_data"
    },
    {
     "data": {
      "application/vnd.jupyter.widget-view+json": {
       "model_id": "82b8617c1d384c7197ef0abc0954aa35",
       "version_major": 2,
       "version_minor": 0
      },
      "text/plain": [
       "Output()"
      ]
     },
     "metadata": {},
     "output_type": "display_data"
    }
   ],
   "source": [
    "import numpy as np\n",
    "import matplotlib.pyplot as plt\n",
    "from scipy.stats import beta\n",
    "import ipywidgets as widgets\n",
    "from IPython.display import display\n",
    "\n",
    "def plot_beta(k, n):\n",
    "    if k > n:\n",
    "        print(\"Error: k must be ≤ n.\")\n",
    "        return\n",
    "    x = np.linspace(0, 1, 1000)\n",
    "    alpha_param = k + 1\n",
    "    beta_param = (n - k) + 1\n",
    "    y = beta.pdf(x, alpha_param, beta_param)\n",
    "\n",
    "    fig, ax = plt.subplots(figsize=(8, 6))\n",
    "    ax.plot(x, y, label=f\"Beta({alpha_param}, {beta_param})\", color=\"blue\")\n",
    "    ax.fill_between(x, y, color=\"skyblue\", alpha=0.4)\n",
    "    ax.set_title(\"Distribution of θ\")\n",
    "    ax.set_xlabel(\"θ\")\n",
    "    ax.set_ylabel(\"Probability Density\")\n",
    "    ax.grid(True)\n",
    "    ax.legend()\n",
    "    plt.show()\n",
    "\n",
    "# Create sliders\n",
    "n_slider = widgets.IntSlider(min=0, max=100, step=1, value=2, description=\"n\")\n",
    "k_slider = widgets.IntSlider(min=0, max=100, step=1, value=1, description=\"k\")\n",
    "\n",
    "# Callback to update the max value of k_slider when n changes\n",
    "def update_k_slider(*args):\n",
    "    k_slider.max = n_slider.value\n",
    "    if k_slider.value > k_slider.max:\n",
    "        k_slider.value = k_slider.max\n",
    "\n",
    "n_slider.observe(update_k_slider, names='value')\n",
    "\n",
    "# Display everything\n",
    "ui = widgets.VBox([n_slider, k_slider])\n",
    "out = widgets.interactive_output(plot_beta, {'k': k_slider, 'n': n_slider})\n",
    "\n",
    "display(ui, out)\n"
   ]
  }
 ],
 "metadata": {
  "kernelspec": {
   "display_name": "Bayes",
   "language": "python",
   "name": "python3"
  },
  "language_info": {
   "codemirror_mode": {
    "name": "ipython",
    "version": 3
   },
   "file_extension": ".py",
   "mimetype": "text/x-python",
   "name": "python",
   "nbconvert_exporter": "python",
   "pygments_lexer": "ipython3",
   "version": "3.11.11"
  }
 },
 "nbformat": 4,
 "nbformat_minor": 5
}
